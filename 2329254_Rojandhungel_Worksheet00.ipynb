{
 "cells": [
  {
   "cell_type": "raw",
   "id": "dbabe187-9bd6-4853-94db-c1baa1ec40f9",
   "metadata": {},
   "source": [
    "Student Id: 2329254\n",
    "Student Name: Rojan Dhungel\n",
    "Workseet 00 - AI and ML"
   ]
  },
  {
   "cell_type": "markdown",
   "id": "7bb09f38-b679-42cb-bc7a-0b7e3e4b06ea",
   "metadata": {},
   "source": [
    "## Exercise on Functions"
   ]
  },
  {
   "cell_type": "markdown",
   "id": "df250f11-e9b7-46f4-95ba-d409f72f6ebd",
   "metadata": {},
   "source": [
    "\n",
    "### Task 1: Create a Python program that converts between different units of measurement."
   ]
  },
  {
   "cell_type": "code",
   "execution_count": 101,
   "id": "d7219c94-198b-4d0a-9540-538ee801d224",
   "metadata": {},
   "outputs": [
    {
     "name": "stdout",
     "output_type": "stream",
     "text": [
      "Unit Converter: Length, Weight, Volume\n",
      "1. Length (meters to feet, feet to meters)\n",
      "2. Weight (kilograms to pounds, pounds to kilograms)\n",
      "3. Volume (liters to gallons, gallons to liters)\n"
     ]
    },
    {
     "name": "stdout",
     "output_type": "stream",
     "text": [
      "Select conversion type (1-3):  1\n",
      "Enter value to convert:  1\n",
      "Enter unit ('m' for meters, 'ft' for feet):  ft\n"
     ]
    },
    {
     "name": "stdout",
     "output_type": "stream",
     "text": [
      "Converted value: 0.30 m\n"
     ]
    }
   ],
   "source": [
    "def convert_length(value, unit):\n",
    "    \"\"\"\n",
    "    Convert length between meters and feet.\n",
    "    :param value: The numerical value to convert.\n",
    "    :param unit: The unit to convert from ('m' for meters, 'ft' for feet).\n",
    "    :return: Converted value.\n",
    "    \"\"\"\n",
    "    if unit == 'm':\n",
    "        return value * 3.28084  # Meters to feet\n",
    "    elif unit == 'ft':\n",
    "        return value / 3.28084  # Feet to meters\n",
    "    else:\n",
    "        raise ValueError(\"Unsupported length unit.\")\n",
    "\n",
    "def convert_weight(value, unit):\n",
    "    \"\"\"\n",
    "    Convert weight between kilograms and pounds.\n",
    "    :param value: The numerical value to convert.\n",
    "    :param unit: The unit to convert from ('kg' for kilograms, 'lbs' for pounds).\n",
    "    :return: Converted value.\n",
    "    \"\"\"\n",
    "    if unit == 'kg':\n",
    "        return value * 2.20462  # Kilograms to pounds\n",
    "    elif unit == 'lbs':\n",
    "        return value / 2.20462  # Pounds to kilograms\n",
    "    else:\n",
    "        raise ValueError(\"Unsupported weight unit.\")\n",
    "\n",
    "def convert_volume(value, unit):\n",
    "    \"\"\"\n",
    "    Convert volume between liters and gallons.\n",
    "    :param value: The numerical value to convert.\n",
    "    :param unit: The unit to convert from ('L' for liters, 'gal' for gallons).\n",
    "    :return: Converted value.\n",
    "    \"\"\"\n",
    "    if unit == 'L':\n",
    "        return value * 0.264172  # Liters to gallons\n",
    "    elif unit == 'gal':\n",
    "        return value / 0.264172  # Gallons to liters\n",
    "    else:\n",
    "        raise ValueError(\"Unsupported volume unit.\")\n",
    "\n",
    "def main():\n",
    "    \"\"\"Main function to handle user input and conversion selection.\"\"\"\n",
    "    print(\"Unit Converter: Length, Weight, Volume\")\n",
    "    print(\"1. Length (meters to feet, feet to meters)\")\n",
    "    print(\"2. Weight (kilograms to pounds, pounds to kilograms)\")\n",
    "    print(\"3. Volume (liters to gallons, gallons to liters)\")\n",
    "    \n",
    "    try:\n",
    "        choice = int(input(\"Select conversion type (1-3): \"))\n",
    "        value = float(input(\"Enter value to convert: \"))\n",
    "        \n",
    "        if choice == 1:\n",
    "            unit = input(\"Enter unit ('m' for meters, 'ft' for feet): \").strip().lower()\n",
    "            result = convert_length(value, unit)\n",
    "            new_unit = 'ft' if unit == 'm' else 'm'\n",
    "        elif choice == 2:\n",
    "            unit = input(\"Enter unit ('kg' for kilograms, 'lbs' for pounds): \").strip().lower()\n",
    "            result = convert_weight(value, unit)\n",
    "            new_unit = 'lbs' if unit == 'kg' else 'kg'\n",
    "        elif choice == 3:\n",
    "            unit = input(\"Enter unit ('L' for liters, 'gal' for gallons): \").strip().lower()\n",
    "            result = convert_volume(value, unit)\n",
    "            new_unit = 'gal' if unit == 'L' else 'L'\n",
    "        else:\n",
    "            print(\"Invalid choice. Please select a valid option.\")\n",
    "            return\n",
    "        \n",
    "        print(f\"Converted value: {result:.2f} {new_unit}\")\n",
    "    \n",
    "    except ValueError as e:\n",
    "        print(f\"Error: {e}. Please enter valid input.\")\n",
    "\n",
    "if __name__ == \"__main__\":\n",
    "    main()\n"
   ]
  },
  {
   "cell_type": "markdown",
   "id": "b699adf9-788f-40d8-a886-18f4c7fe9ce2",
   "metadata": {},
   "source": [
    "### Task 2: Create a Python program that performs various mathematical operations on a list of numbers."
   ]
  },
  {
   "cell_type": "code",
   "execution_count": 102,
   "id": "ed13ac4a-ad92-4fb2-819b-315b8f286054",
   "metadata": {},
   "outputs": [
    {
     "name": "stdout",
     "output_type": "stream",
     "text": [
      "Mathematical Operations on a List of Numbers\n",
      "1. Sum\n",
      "2. Average\n",
      "3. Maximum\n",
      "4. Minimum\n"
     ]
    },
    {
     "name": "stdout",
     "output_type": "stream",
     "text": [
      "Select an operation (1-4):  1\n",
      "Enter numbers separated by spaces:  1 119\n"
     ]
    },
    {
     "name": "stdout",
     "output_type": "stream",
     "text": [
      "Sum: 120.00\n"
     ]
    }
   ],
   "source": [
    "def calculate_sum(numbers):\n",
    "    \"\"\"\n",
    "    The sum of a list of numbers is calculated.\n",
    "    :param numbers: List of numerical values.\n",
    "    :return: Sum of the numbers.\n",
    "    \"\"\"\n",
    "    return sum(numbers)\n",
    "\n",
    "def calculate_average(numbers):\n",
    "    \"\"\"\n",
    "    The average of a list of numbers is calculated.\n",
    "    :param numbers: List of numerical values.\n",
    "    :return: Average of the numbers.\n",
    "    \"\"\"\n",
    "    return sum(numbers) / len(numbers) if numbers else 0  # Division by zero is avoided\n",
    "\n",
    "def find_maximum(numbers):\n",
    "    \"\"\"\n",
    "    The maximum value in a list of numbers is found.\n",
    "    :param numbers: List of numerical values.\n",
    "    :return: Maximum number.\n",
    "    \"\"\"\n",
    "    return max(numbers)\n",
    "\n",
    "def find_minimum(numbers):\n",
    "    \"\"\"\n",
    "    The minimum value in a list of numbers is found.\n",
    "    :param numbers: List of numerical values.\n",
    "    :return: Minimum number.\n",
    "    \"\"\"\n",
    "    return min(numbers)\n",
    "\n",
    "def main():\n",
    "    \"\"\"Main function to handle user input and perform the selected operation.\"\"\"\n",
    "    print(\"Mathematical Operations on a List of Numbers\")\n",
    "    print(\"1. Sum\")\n",
    "    print(\"2. Average\")\n",
    "    print(\"3. Maximum\")\n",
    "    print(\"4. Minimum\")\n",
    "    \n",
    "    try:\n",
    "        choice = int(input(\"Select an operation (1-4): \"))\n",
    "        numbers = list(map(float, input(\"Enter numbers separated by spaces: \").split()))\n",
    "        \n",
    "        if not numbers:\n",
    "            raise ValueError(\"List is empty. At least one number must be entered.\")\n",
    "        \n",
    "        if choice == 1:\n",
    "            result = calculate_sum(numbers)\n",
    "            operation = \"Sum\"\n",
    "        elif choice == 2:\n",
    "            result = calculate_average(numbers)\n",
    "            operation = \"Average\"\n",
    "        elif choice == 3:\n",
    "            result = find_maximum(numbers)\n",
    "            operation = \"Maximum\"\n",
    "        elif choice == 4:\n",
    "            result = find_minimum(numbers)\n",
    "            operation = \"Minimum\"\n",
    "        else:\n",
    "            print(\"An invalid choice was made. A valid option must be selected.\")\n",
    "            return\n",
    "\n",
    "        print(f\"{operation}: {result:.2f}\")\n",
    "\n",
    "    except ValueError as e:\n",
    "        print(f\"Error: {e}. Valid numerical input must be entered.\")\n",
    "\n",
    "if __name__ == \"__main__\":\n",
    "    main()\n"
   ]
  },
  {
   "cell_type": "markdown",
   "id": "777b149f-5521-459f-af6e-5aa029c8dbb1",
   "metadata": {},
   "source": [
    "## Exercise on List Manipulation"
   ]
  },
  {
   "cell_type": "markdown",
   "id": "37839753-a710-4b0b-a82f-cef14552fb55",
   "metadata": {},
   "source": [
    "### Task 1: Write a Python function that extracts every other element from a list, starting from the first element."
   ]
  },
  {
   "cell_type": "code",
   "execution_count": 103,
   "id": "8bce1f75-06c1-4f8c-a595-f7de0c2a7c5a",
   "metadata": {},
   "outputs": [
    {
     "name": "stdout",
     "output_type": "stream",
     "text": [
      "Output: [1, 3, 5]\n"
     ]
    }
   ],
   "source": [
    "def extract_every_other(lst):\n",
    "    \"\"\"\n",
    "    Extract every other element from the list, starting from the first element.\n",
    "    :param lst: List of elements.\n",
    "    :return: A new list containing every other element.\n",
    "    \"\"\"\n",
    "    return lst[::2]  # Using slicing to get every other element\n",
    "\n",
    "# Example usage\n",
    "input_list = [1, 2, 3, 4, 5, 6]\n",
    "output_list = extract_every_other(input_list)\n",
    "print(\"Output:\", output_list)  # Output: [1, 3, 5]\n"
   ]
  },
  {
   "cell_type": "markdown",
   "id": "bb72a3ab-2d9f-4466-b3af-213cd33197a4",
   "metadata": {},
   "source": [
    "### Task 2: Write a Python function that returns a sublist from a given list, starting from a specified index and\n",
    "###         ending at another specified index."
   ]
  },
  {
   "cell_type": "code",
   "execution_count": 104,
   "id": "e391da49-0d3a-4c82-865f-ee127ada70ee",
   "metadata": {},
   "outputs": [
    {
     "name": "stdout",
     "output_type": "stream",
     "text": [
      "Output: [3, 4, 5]\n"
     ]
    }
   ],
   "source": [
    "def get_sublist(lst, start, end):\n",
    "    \"\"\"\n",
    "    Return a sublist from the given list, starting from the specified index and ending at another specified index (inclusive).\n",
    "    :param lst: List of elements.\n",
    "    :param start: Starting index.\n",
    "    :param end: Ending index.\n",
    "    :return: Sublist from start to end (inclusive).\n",
    "    \"\"\"\n",
    "    return lst[start:end+1]  # Slicing to include the end index\n",
    "\n",
    "# Example usage\n",
    "input_list = [1, 2, 3, 4, 5, 6]\n",
    "start_index = 2\n",
    "end_index = 4\n",
    "output_sublist = get_sublist(input_list, start_index, end_index)\n",
    "print(\"Output:\", output_sublist)  # Output: [3, 4, 5]\n"
   ]
  },
  {
   "cell_type": "markdown",
   "id": "04a704a5-0021-419f-8b05-1acaa9326d4e",
   "metadata": {},
   "source": [
    "### Task 3: Write a Python function that reverses a list using slicing."
   ]
  },
  {
   "cell_type": "code",
   "execution_count": 105,
   "id": "e3321fde-58b1-4825-8302-0f74588003e3",
   "metadata": {},
   "outputs": [
    {
     "name": "stdout",
     "output_type": "stream",
     "text": [
      "Output: [5, 4, 3, 2, 1]\n"
     ]
    }
   ],
   "source": [
    "def reverse_list(lst):\n",
    "    \"\"\"\n",
    "    Reverse the given list using slicing.\n",
    "    :param lst: List of elements.\n",
    "    :return: Reversed list.\n",
    "    \"\"\"\n",
    "    return lst[::-1]  # Slicing to reverse the list\n",
    "\n",
    "# Example usage\n",
    "input_list = [1, 2, 3, 4, 5]\n",
    "output_list = reverse_list(input_list)\n",
    "print(\"Output:\", output_list)  # Output: [5, 4, 3, 2, 1]\n"
   ]
  },
  {
   "cell_type": "markdown",
   "id": "08632ba8-9085-45e3-83fb-ae8f568b7b82",
   "metadata": {},
   "source": [
    "### Task 4: Write a Python function that removes the first and last elements of a list and returns the resulting\n",
    "### sublist."
   ]
  },
  {
   "cell_type": "code",
   "execution_count": 106,
   "id": "5079329d-a9cb-4d3f-97fe-041627f01101",
   "metadata": {},
   "outputs": [
    {
     "name": "stdout",
     "output_type": "stream",
     "text": [
      "Output: [2, 3, 4]\n"
     ]
    }
   ],
   "source": [
    "def remove_first_last(lst):\n",
    "    \"\"\"\n",
    "    Remove the first and last elements from the list and return the resulting sublist.\n",
    "    :param lst: List of elements.\n",
    "    :return: Sublist without the first and last elements.\n",
    "    \"\"\"\n",
    "    return lst[1:-1]  # Slicing to remove the first and last elements\n",
    "\n",
    "# Example usage\n",
    "input_list = [1, 2, 3, 4, 5]\n",
    "output_list = remove_first_last(input_list)\n",
    "print(\"Output:\", output_list)  # Output: [2, 3, 4]\n"
   ]
  },
  {
   "cell_type": "markdown",
   "id": "161d858d-78c4-4d4e-aa2b-ff1a89fac095",
   "metadata": {},
   "source": [
    "### Task 5: Write a Python function that extracts the first n elements from a list."
   ]
  },
  {
   "cell_type": "code",
   "execution_count": 107,
   "id": "dfe9550e-c19d-43d9-b657-24c5747e5979",
   "metadata": {},
   "outputs": [
    {
     "name": "stdout",
     "output_type": "stream",
     "text": [
      "Output: [1, 2, 3]\n"
     ]
    }
   ],
   "source": [
    "def get_first_n(lst, n):\n",
    "    \"\"\"\n",
    "    Extract the first n elements from the list using slicing.\n",
    "    :param lst: List of elements.\n",
    "    :param n: Number of elements to extract.\n",
    "    :return: A list of the first n elements.\n",
    "    \"\"\"\n",
    "    return lst[:n]  # Slicing to get the first n elements\n",
    "\n",
    "# Example usage\n",
    "input_list = [1, 2, 3, 4, 5]\n",
    "n = 3\n",
    "output_list = get_first_n(input_list, n)\n",
    "print(\"Output:\", output_list)  # Output: [1, 2, 3]\n"
   ]
  },
  {
   "cell_type": "markdown",
   "id": "a1df334a-fbd9-4f4a-83c7-74b821758b97",
   "metadata": {},
   "source": [
    "### Task 6: Write a Python function that extracts the first n elements from a list."
   ]
  },
  {
   "cell_type": "code",
   "execution_count": 108,
   "id": "c1237520-1fe5-4416-a74e-aaa897b8ab8b",
   "metadata": {},
   "outputs": [
    {
     "name": "stdout",
     "output_type": "stream",
     "text": [
      "Output: [4, 5]\n"
     ]
    }
   ],
   "source": [
    "def get_last_n(lst, n):\n",
    "    \"\"\"\n",
    "    Extract the last n elements from the list using slicing.\n",
    "    :param lst: List of elements.\n",
    "    :param n: Number of elements to extract from the end.\n",
    "    :return: A list of the last n elements.\n",
    "    \"\"\"\n",
    "    return lst[-n:]  # Slicing to get the last n elements\n",
    "\n",
    "input_list = [1, 2, 3, 4, 5]\n",
    "n = 2\n",
    "output_list = get_last_n(input_list, n)\n",
    "print(\"Output:\", output_list)  # Output: [4, 5]\n"
   ]
  },
  {
   "cell_type": "markdown",
   "id": "a37af5ef-f561-41a2-9784-c190df7a921b",
   "metadata": {},
   "source": [
    "### Task 7: Write a Python function that extracts a list of elements in reverse order starting from the second-to-last element and skipping one element in between. "
   ]
  },
  {
   "cell_type": "code",
   "execution_count": 109,
   "id": "a6c67a8c-e39f-4600-bf35-0d5e69f04cda",
   "metadata": {},
   "outputs": [
    {
     "name": "stdout",
     "output_type": "stream",
     "text": [
      "Output: [5, 3, 1]\n"
     ]
    }
   ],
   "source": [
    "def reverse_skip(lst):\n",
    "    \"\"\"\n",
    "    Extract every second element starting from the second-to-last element and moving backward.\n",
    "    :param lst: List of elements.\n",
    "    :return: A list of every second element in reverse order starting from the second-to-last.\n",
    "    \"\"\"\n",
    "    return lst[-2::-2]  # Slicing to get every second element starting from the second-to-last, moving backward\n",
    "\n",
    "# Example usage\n",
    "input_list = [1, 2, 3, 4, 5, 6]\n",
    "output_list = reverse_skip(input_list)\n",
    "print(\"Output:\", output_list)  # Output: [5, 3, 1]\n"
   ]
  },
  {
   "cell_type": "markdown",
   "id": "55785cc6-7d92-4aed-a705-954e19132195",
   "metadata": {},
   "source": [
    "## Exercise on Nested Loops"
   ]
  },
  {
   "cell_type": "markdown",
   "id": "4007a62a-208e-4f2a-a64b-7db497f3880a",
   "metadata": {},
   "source": [
    "### Task 1: Write a Python function that takes a nested list and flattens it into a single list, where all the elements are in a single dimension. \n"
   ]
  },
  {
   "cell_type": "code",
   "execution_count": 110,
   "id": "7a50db7a-4fe2-4346-aaca-f2d6a52c2d4c",
   "metadata": {},
   "outputs": [
    {
     "name": "stdout",
     "output_type": "stream",
     "text": [
      "Output: [1, 2, 3, 4, 5]\n"
     ]
    }
   ],
   "source": [
    "def flatten(lst):\n",
    "    \"\"\"\n",
    "    Flatten a nested list into a single list.\n",
    "    :param lst: Nested list to be flattened.\n",
    "    :return: A flattened list.\n",
    "    \"\"\"\n",
    "    flattened = []\n",
    "    for item in lst:\n",
    "        if isinstance(item, list):\n",
    "            flattened.extend(flatten(item))  # Recursively flatten the nested list\n",
    "        else:\n",
    "            flattened.append(item)\n",
    "    return flattened\n",
    "\n",
    "# Example usage\n",
    "nested_list = [[1, 2], [3, 4], [5]]\n",
    "output = flatten(nested_list)\n",
    "print(\"Output:\", output)  # Output: [1, 2, 3, 4, 5]\n"
   ]
  },
  {
   "cell_type": "markdown",
   "id": "70e770c1-9aeb-4c57-b332-4c8840338a8c",
   "metadata": {},
   "source": [
    "### Task 2: Write a Python function that extracts a specific element from a nested list given its indices."
   ]
  },
  {
   "cell_type": "code",
   "execution_count": null,
   "id": "e66de011-dbf8-4da2-a9de-a9156083b24a",
   "metadata": {},
   "outputs": [
    {
     "name": "stdout",
     "output_type": "stream",
     "text": [
      "Output: 6\n"
     ]
    }
   ],
   "source": [
    "def access_nested_element(lst, indices):\n",
    "    \"\"\"\n",
    "    Access an element from a nested list using a list of indices.\n",
    "    :param lst: Nested list.\n",
    "    :param indices: List of indices to access the element.\n",
    "    :return: The element at the specified indices.\n",
    "    \"\"\"  \n",
    "    for index in indices:\n",
    "        lst = lst[index]  # Access the element at the current index\n",
    "    return lst\n",
    "\n",
    "# Example usage\n",
    "nested_list = [[1, 2, 3], [4, 5, 6], [7, 8, 9]]\n",
    "indices = [1, 2]\n",
    "output = access_nested_element(nested_list, indices)\n",
    "print(\"Output:\", output)  # Output: 6\n"
   ]
  },
  {
   "cell_type": "markdown",
   "id": "d00bc4b6-036f-4a72-9d05-b46d4a2f70c8",
   "metadata": {},
   "source": [
    "### Task 3: Write a Python function that calculates the sum of all the numbers in a nested list (regardless of depth)."
   ]
  },
  {
   "cell_type": "code",
   "execution_count": 112,
   "id": "5c9ebbe4-d546-483b-95fe-73b1e3ec9cdd",
   "metadata": {},
   "outputs": [
    {
     "name": "stdout",
     "output_type": "stream",
     "text": [
      "Output: 21\n"
     ]
    }
   ],
   "source": [
    "def sum_nested(lst):\n",
    "    \"\"\"\n",
    "    Calculate the sum of all elements in a nested list (regardless of depth).\n",
    "    :param lst: Nested list of numbers.\n",
    "    :return: Sum of all elements.\n",
    "    \"\"\"\n",
    "    total = 0\n",
    "    for item in lst:\n",
    "        if isinstance(item, list):\n",
    "            total += sum_nested(item)  # Recursively sum the nested lists\n",
    "        else:\n",
    "            total += item\n",
    "    return total\n",
    "\n",
    "# Example usage\n",
    "nested_list = [[1, 2], [3, [4, 5]], 6]\n",
    "output = sum_nested(nested_list)\n",
    "print(\"Output:\", output)  # Output: 21"
   ]
  },
  {
   "cell_type": "markdown",
   "id": "5ae60252-6cd4-4712-ba0e-ae034c35d209",
   "metadata": {},
   "source": [
    "### Task 4: Write a Python function that removes all occurrences of a specific element from a nested list."
   ]
  },
  {
   "cell_type": "code",
   "execution_count": 113,
   "id": "b20fb704-f3e7-44d6-a0d3-9c1bfc9a2bdf",
   "metadata": {},
   "outputs": [
    {
     "name": "stdout",
     "output_type": "stream",
     "text": [
      "Output: [[1], [3], [4, 5]]\n"
     ]
    }
   ],
   "source": [
    "def remove_element(lst, elem):\n",
    "    \"\"\"\n",
    "    Remove all occurrences of a specific element from a nested list.\n",
    "    :param lst: Nested list.\n",
    "    :param elem: Element to be removed.\n",
    "    :return: Modified nested list with the element removed.\n",
    "    \"\"\"\n",
    "    if isinstance(lst, list):\n",
    "        return [remove_element(item, elem) for item in lst if item != elem]  # Recursively remove element\n",
    "    return lst\n",
    "\n",
    "# Example usage\n",
    "nested_list = [[1, 2], [3, 2], [4, 5]]\n",
    "elem = 2\n",
    "output = remove_element(nested_list, elem)\n",
    "print(\"Output:\", output)  # Output: [[1], [3], [4, 5]]"
   ]
  },
  {
   "cell_type": "markdown",
   "id": "d8121a78-afd8-4089-97bd-0c9bee90858f",
   "metadata": {},
   "source": [
    "### Task 5: Write a Python function that finds the maximum element in a nested list (regardless of depth)."
   ]
  },
  {
   "cell_type": "code",
   "execution_count": 114,
   "id": "0ff980e2-05c9-4866-bc20-66ccabd6e36f",
   "metadata": {},
   "outputs": [
    {
     "name": "stdout",
     "output_type": "stream",
     "text": [
      "Output: 6\n"
     ]
    }
   ],
   "source": [
    "def find_max(lst):\n",
    "    \"\"\"\n",
    "    Find the maximum element in a nested list (regardless of depth).\n",
    "    :param lst: Nested list of numbers.\n",
    "    :return: The maximum element in the list.\n",
    "    \"\"\"\n",
    "    max_element = float('-inf')\n",
    "    for item in lst:\n",
    "        if isinstance(item, list):\n",
    "            max_element = max(max_element, find_max(item))  # Recursively find max in nested lists\n",
    "        else:\n",
    "            max_element = max(max_element, item)\n",
    "    return max_element\n",
    "\n",
    "# Example usage\n",
    "nested_list = [[1, 2], [3, [4, 5]], 6]\n",
    "output = find_max(nested_list)\n",
    "print(\"Output:\", output)  # Output: 6\n"
   ]
  },
  {
   "cell_type": "markdown",
   "id": "c175529d-5aa2-4321-a0f7-563c032ec268",
   "metadata": {},
   "source": [
    "### Task 6: Write a Python function that counts how many times a specific element appears in a nested list."
   ]
  },
  {
   "cell_type": "code",
   "execution_count": 115,
   "id": "4d5b9f5c-72e5-48d4-aa30-baeed998b24e",
   "metadata": {},
   "outputs": [
    {
     "name": "stdout",
     "output_type": "stream",
     "text": [
      "Output: 3\n"
     ]
    }
   ],
   "source": [
    "def count_occurrences(lst, elem):\n",
    "    \"\"\"\n",
    "    Count how many times a specific element appears in a nested list.\n",
    "    :param lst: Nested list.\n",
    "    :param elem: Element to count.\n",
    "    :return: The number of occurrences of the element.\n",
    "    \"\"\"\n",
    "    count = 0\n",
    "    for item in lst:\n",
    "        if isinstance(item, list):\n",
    "            count += count_occurrences(item, elem)  # Recursively count in nested lists\n",
    "        elif item == elem:\n",
    "            count += 1\n",
    "    return count\n",
    "\n",
    "# Example usage\n",
    "nested_list = [[1, 2], [2, 3], [2, 4]]\n",
    "elem = 2\n",
    "output = count_occurrences(nested_list, elem)\n",
    "print(\"Output:\", output)  # Output: 3\n"
   ]
  },
  {
   "cell_type": "markdown",
   "id": "d3246a9d-98fc-47f0-8bb5-f033b4a48661",
   "metadata": {},
   "source": [
    "### Task 7: Write a Python function that flattens a list of lists of lists into a single list, regardless of the depth."
   ]
  },
  {
   "cell_type": "code",
   "execution_count": 116,
   "id": "d086dcf0-d25d-4220-856c-1efa7dc0bca2",
   "metadata": {},
   "outputs": [
    {
     "name": "stdout",
     "output_type": "stream",
     "text": [
      "Output: [1, 2, 3, 4, 5, 6, 7, 8]\n"
     ]
    }
   ],
   "source": [
    "def deep_flatten(lst):\n",
    "    \"\"\"\n",
    "    Flatten a deeply nested list of lists of lists into a single list.\n",
    "    :param lst: Deeply nested list.\n",
    "    :return: A flattened list.\n",
    "    \"\"\"\n",
    "    flattened = []\n",
    "    for item in lst:\n",
    "        if isinstance(item, list):\n",
    "            flattened.extend(deep_flatten(item))  # Recursively flatten deeply nested lists\n",
    "        else:\n",
    "            flattened.append(item)\n",
    "    return flattened\n",
    "\n",
    "# Example usage\n",
    "nested_list = [[[1, 2], [3, 4]], [[5, 6], [7, 8]]]\n",
    "output = deep_flatten(nested_list)\n",
    "print(\"Output:\", output)  # Output: [1, 2, 3, 4, 5, 6, 7, 8]\n"
   ]
  },
  {
   "cell_type": "markdown",
   "id": "4d6a2058-2c26-4182-84ff-72521ada5589",
   "metadata": {},
   "source": [
    "### Task 8: Write a Python function that calculates the average of all elements in a nested list"
   ]
  },
  {
   "cell_type": "code",
   "execution_count": 117,
   "id": "f06fed82-45e1-42b9-b782-9fc0727eac4e",
   "metadata": {},
   "outputs": [
    {
     "name": "stdout",
     "output_type": "stream",
     "text": [
      "Average: 3.5\n"
     ]
    }
   ],
   "source": [
    "def average_nested(lst):\n",
    "    \"\"\"\n",
    "    Calculate the average of all elements in a nested list.\n",
    "    :param lst: Nested list of numbers.\n",
    "    :return: The average of all elements.\n",
    "    \"\"\"\n",
    "    total, count = 0, 0\n",
    "    for item in lst:\n",
    "        if isinstance(item, list):\n",
    "            sub_total, sub_count = average_nested(item)  # Recursively get sum and count\n",
    "            total += sub_total\n",
    "            count += sub_count\n",
    "        else:\n",
    "            total += item\n",
    "            count += 1\n",
    "    return total, count  # Return both total and count\n",
    "\n",
    "# Example usage\n",
    "nested_list = [[1, 2], [3, 4], [5, 6]]\n",
    "total, count = average_nested(nested_list)\n",
    "average = total / count if count else 0  # Avoid division by zero\n",
    "print(\"Average:\", average)  # Output: 3.5\n"
   ]
  },
  {
   "cell_type": "markdown",
   "id": "58277b36-9c7d-4768-830a-2030dc73d403",
   "metadata": {},
   "source": [
    "## To-do Numpy"
   ]
  },
  {
   "cell_type": "markdown",
   "id": "6c408794-cb7a-4f6a-83cf-631845a3fc11",
   "metadata": {},
   "source": [
    "## Problem 1: Array Creation"
   ]
  },
  {
   "cell_type": "markdown",
   "id": "5ffd1627-2a67-4b73-bda5-33aa9640f974",
   "metadata": {},
   "source": [
    "### Task 1: Initialize an empty array with size 2x2:"
   ]
  },
  {
   "cell_type": "code",
   "execution_count": 118,
   "id": "a391274d-a6c4-4847-bd2e-bfce20f334ee",
   "metadata": {},
   "outputs": [
    {
     "name": "stdout",
     "output_type": "stream",
     "text": [
      "Empty Array:\n",
      " [[1.14e-322 2.52e-322]\n",
      " [6.42e-323 1.43e-322]]\n"
     ]
    }
   ],
   "source": [
    "import numpy as np\n",
    "empty_array = np.empty((2, 2))\n",
    "print(\"Empty Array:\\n\", empty_array)\n"
   ]
  },
  {
   "cell_type": "markdown",
   "id": "2e0603b2-427b-4e2e-865e-85c0469c5b93",
   "metadata": {},
   "source": [
    "### Task 2: Initialize an empty array with size 4x2:"
   ]
  },
  {
   "cell_type": "code",
   "execution_count": 119,
   "id": "86f1ad20-1d34-4ea5-af1d-4dfb2b0076e5",
   "metadata": {},
   "outputs": [
    {
     "name": "stdout",
     "output_type": "stream",
     "text": [
      "All Ones Array:\n",
      " [[1. 1.]\n",
      " [1. 1.]\n",
      " [1. 1.]\n",
      " [1. 1.]]\n"
     ]
    }
   ],
   "source": [
    "ones_array = np.ones((4, 2))\n",
    "print(\"All Ones Array:\\n\", ones_array)"
   ]
  },
  {
   "cell_type": "markdown",
   "id": "3dfb0204-1d4d-4a8b-bdf0-999574a6963d",
   "metadata": {},
   "source": [
    "### Task 3: Return a new array of a given shape and type, filled with a fill value:"
   ]
  },
  {
   "cell_type": "code",
   "execution_count": 120,
   "id": "5f5b1bdc-390b-4b37-a1fa-746da42cf963",
   "metadata": {},
   "outputs": [
    {
     "name": "stdout",
     "output_type": "stream",
     "text": [
      "Filled Array:\n",
      " [[7 7 7]\n",
      " [7 7 7]\n",
      " [7 7 7]]\n"
     ]
    }
   ],
   "source": [
    "filled_array = np.full((3, 3), 7)\n",
    "print(\"Filled Array:\\n\", filled_array)\n"
   ]
  },
  {
   "cell_type": "markdown",
   "id": "e3fa8ab1-9009-42b5-b75b-b3899b47c015",
   "metadata": {},
   "source": [
    "### Task 4: Return a new array of zeros with the same shape and type as a given array:"
   ]
  },
  {
   "cell_type": "code",
   "execution_count": 121,
   "id": "89880b23-5f90-44f9-bd5f-9c75765a68d0",
   "metadata": {},
   "outputs": [
    {
     "name": "stdout",
     "output_type": "stream",
     "text": [
      "Zeros Array with Same Shape and Type:\n",
      " [[0 0]\n",
      " [0 0]]\n"
     ]
    }
   ],
   "source": [
    "template_array = np.array([[1, 2], [3, 4]])\n",
    "zeros_array = np.zeros_like(template_array)\n",
    "print(\"Zeros Array with Same Shape and Type:\\n\", zeros_array)\n"
   ]
  },
  {
   "cell_type": "markdown",
   "id": "5599ca29-1779-4b28-bc2d-cb04ac8d39ce",
   "metadata": {},
   "source": [
    "### Task 5: Return a new array of ones with the same shape and type as a given array:"
   ]
  },
  {
   "cell_type": "code",
   "execution_count": 122,
   "id": "765f2a77-3181-4492-b831-4ebdb66b285e",
   "metadata": {},
   "outputs": [
    {
     "name": "stdout",
     "output_type": "stream",
     "text": [
      "Ones Array with Same Shape and Type:\n",
      " [[1 1]\n",
      " [1 1]]\n"
     ]
    }
   ],
   "source": [
    "ones_like_array = np.ones_like(template_array)\n",
    "print(\"Ones Array with Same Shape and Type:\\n\", ones_like_array)\n"
   ]
  },
  {
   "cell_type": "markdown",
   "id": "95cb0c9c-5943-406b-8339-b949e00ad6e8",
   "metadata": {},
   "source": [
    "### Task 6: Convert an existing list new_list = [1, 2, 3, 4] to a numpy array:"
   ]
  },
  {
   "cell_type": "code",
   "execution_count": 123,
   "id": "a0dcc1b4-31e8-414e-a50d-00b380d77d35",
   "metadata": {},
   "outputs": [
    {
     "name": "stdout",
     "output_type": "stream",
     "text": [
      "Numpy Array:\n",
      " [1 2 3 4]\n"
     ]
    }
   ],
   "source": [
    "new_list = [1, 2, 3, 4]\n",
    "numpy_array = np.array(new_list)\n",
    "print(\"Numpy Array:\\n\", numpy_array)\n"
   ]
  },
  {
   "cell_type": "markdown",
   "id": "e5837ae9-cef4-4fb4-971c-25dfbe0d8570",
   "metadata": {},
   "source": [
    "## Problem 2: Array Manipulation"
   ]
  },
  {
   "cell_type": "markdown",
   "id": "9844f756-a918-4319-8b8a-b66681ede8a8",
   "metadata": {},
   "source": [
    "### Task 1: Create an array with values ranging from 10 to 49."
   ]
  },
  {
   "cell_type": "code",
   "execution_count": 124,
   "id": "11499982-4da7-4dae-81a8-c0af56a1f635",
   "metadata": {},
   "outputs": [
    {
     "name": "stdout",
     "output_type": "stream",
     "text": [
      "Array with values from 10 to 49:\n",
      " [10 11 12 13 14 15 16 17 18 19 20 21 22 23 24 25 26 27 28 29 30 31 32 33\n",
      " 34 35 36 37 38 39 40 41 42 43 44 45 46 47 48 49]\n"
     ]
    }
   ],
   "source": [
    "array_range = np.arange(10, 50)\n",
    "print(\"Array with values from 10 to 49:\\n\", array_range)"
   ]
  },
  {
   "cell_type": "markdown",
   "id": "c190c5ba-b073-484a-b88d-ce3a5e80e460",
   "metadata": {},
   "source": [
    "### Task 2: Create a 3x3 matrix with values ranging from 0 to 8."
   ]
  },
  {
   "cell_type": "code",
   "execution_count": 125,
   "id": "686232f8-239d-41ed-bf98-ed5b1b1c4c32",
   "metadata": {},
   "outputs": [
    {
     "name": "stdout",
     "output_type": "stream",
     "text": [
      "3x3 Matrix with values from 0 to 8:\n",
      " [[0 1 2]\n",
      " [3 4 5]\n",
      " [6 7 8]]\n"
     ]
    }
   ],
   "source": [
    "matrix_3x3 = np.arange(9).reshape(3, 3)\n",
    "print(\"3x3 Matrix with values from 0 to 8:\\n\", matrix_3x3)"
   ]
  },
  {
   "cell_type": "markdown",
   "id": "786994f9-5f1b-4377-aaf2-b14d53b8bec3",
   "metadata": {},
   "source": [
    "### Task 3: Create a 3x3 identity matrix."
   ]
  },
  {
   "cell_type": "code",
   "execution_count": 126,
   "id": "fbf827de-8ef7-47b8-82bc-a2e4ef3b50ce",
   "metadata": {},
   "outputs": [
    {
     "name": "stdout",
     "output_type": "stream",
     "text": [
      "3x3 Identity Matrix:\n",
      " [[1. 0. 0.]\n",
      " [0. 1. 0.]\n",
      " [0. 0. 1.]]\n"
     ]
    }
   ],
   "source": [
    "identity_matrix = np.eye(3)\n",
    "print(\"3x3 Identity Matrix:\\n\", identity_matrix)\n"
   ]
  },
  {
   "cell_type": "markdown",
   "id": "63cd1631-0e0c-4562-928f-859fea89c21c",
   "metadata": {},
   "source": [
    "### Task 4: Create a random array of size 30 and find the mean of the array."
   ]
  },
  {
   "cell_type": "code",
   "execution_count": 127,
   "id": "b27ae171-9db1-472f-bf77-6c174efea9d7",
   "metadata": {},
   "outputs": [
    {
     "name": "stdout",
     "output_type": "stream",
     "text": [
      "Mean of Random Array: 0.43035056010593326\n"
     ]
    }
   ],
   "source": [
    "random_array = np.random.random(30)\n",
    "mean_value = random_array.mean()\n",
    "print(\"Mean of Random Array:\", mean_value)\n"
   ]
  },
  {
   "cell_type": "markdown",
   "id": "ae8be31f-b5d1-4e78-a5db-0e357a7ff748",
   "metadata": {},
   "source": [
    "### Task 5: Create a 10x10 array with random values and find the minimum and maximum values."
   ]
  },
  {
   "cell_type": "code",
   "execution_count": 128,
   "id": "b85db274-2d6c-446d-b8f5-209629a3f524",
   "metadata": {},
   "outputs": [
    {
     "name": "stdout",
     "output_type": "stream",
     "text": [
      "Minimum Value: 0.002191417326719791\n",
      "Maximum Value: 0.9988178476242789\n"
     ]
    }
   ],
   "source": [
    "random_10x10 = np.random.random((10, 10))\n",
    "min_value = random_10x10.min()\n",
    "max_value = random_10x10.max()\n",
    "print(\"Minimum Value:\", min_value)\n",
    "print(\"Maximum Value:\", max_value)\n"
   ]
  },
  {
   "cell_type": "markdown",
   "id": "d40e1b2f-426f-4470-b764-81f3369b7118",
   "metadata": {},
   "source": [
    "### Task 6: Create a zero array of size 10 and replace the 5th element with 1."
   ]
  },
  {
   "cell_type": "code",
   "execution_count": 129,
   "id": "6915cb24-a825-4572-8f4c-ef032ae0b6d7",
   "metadata": {},
   "outputs": [
    {
     "name": "stdout",
     "output_type": "stream",
     "text": [
      "Zero Array with 5th Element as 1:\n",
      " [0. 0. 0. 0. 1. 0. 0. 0. 0. 0.]\n"
     ]
    }
   ],
   "source": [
    "zero_array = np.zeros(10)\n",
    "zero_array[4] = 1  # Index 4 corresponds to the 5th element\n",
    "print(\"Zero Array with 5th Element as 1:\\n\", zero_array)\n"
   ]
  },
  {
   "cell_type": "markdown",
   "id": "21c46b4b-0024-4a17-8b86-9ea0a54cb270",
   "metadata": {},
   "source": [
    "### Task 7: Reverse an array"
   ]
  },
  {
   "cell_type": "code",
   "execution_count": 130,
   "id": "ae059dbe-a63a-49cb-83d4-09851b0fc883",
   "metadata": {},
   "outputs": [
    {
     "name": "stdout",
     "output_type": "stream",
     "text": [
      "Reversed Array:\n",
      " [0 4 0 0 2 1]\n"
     ]
    }
   ],
   "source": [
    "arr = np.array([1, 2, 0, 0, 4, 0])\n",
    "reversed_arr = arr[::-1]\n",
    "print(\"Reversed Array:\\n\", reversed_arr)"
   ]
  },
  {
   "cell_type": "markdown",
   "id": "81930d04-ffbe-4015-8b44-97caa8b78b1c",
   "metadata": {},
   "source": [
    "### Task 8: Create a 2D array with 1 on the border and 0 inside:"
   ]
  },
  {
   "cell_type": "code",
   "execution_count": 131,
   "id": "60797eab-d8d6-40be-8943-846d8b1df42d",
   "metadata": {},
   "outputs": [
    {
     "name": "stdout",
     "output_type": "stream",
     "text": [
      "2D Array with 1 on Border and 0 Inside:\n",
      " [[1. 1. 1. 1. 1.]\n",
      " [1. 0. 0. 0. 1.]\n",
      " [1. 0. 0. 0. 1.]\n",
      " [1. 0. 0. 0. 1.]\n",
      " [1. 1. 1. 1. 1.]]\n"
     ]
    }
   ],
   "source": [
    "border_array = np.ones((5, 5))\n",
    "border_array[1:-1, 1:-1] = 0\n",
    "print(\"2D Array with 1 on Border and 0 Inside:\\n\", border_array)"
   ]
  },
  {
   "cell_type": "markdown",
   "id": "bc5c385f-d9b2-46e7-b7bb-70aeb21a941e",
   "metadata": {},
   "source": [
    "### Task 9: Create an 8x8 matrix and fill it with a checkerboard pattern:"
   ]
  },
  {
   "cell_type": "code",
   "execution_count": 132,
   "id": "8929746d-9954-4307-8fef-003fdeb45275",
   "metadata": {},
   "outputs": [
    {
     "name": "stdout",
     "output_type": "stream",
     "text": [
      "8x8 Checkerboard Pattern:\n",
      " [[0. 1. 0. 1. 0. 1. 0. 1.]\n",
      " [1. 0. 1. 0. 1. 0. 1. 0.]\n",
      " [0. 1. 0. 1. 0. 1. 0. 1.]\n",
      " [1. 0. 1. 0. 1. 0. 1. 0.]\n",
      " [0. 1. 0. 1. 0. 1. 0. 1.]\n",
      " [1. 0. 1. 0. 1. 0. 1. 0.]\n",
      " [0. 1. 0. 1. 0. 1. 0. 1.]\n",
      " [1. 0. 1. 0. 1. 0. 1. 0.]]\n"
     ]
    }
   ],
   "source": [
    "checkerboard = np.zeros((8, 8))\n",
    "checkerboard[1::2, ::2] = 1\n",
    "checkerboard[::2, 1::2] = 1\n",
    "print(\"8x8 Checkerboard Pattern:\\n\", checkerboard)"
   ]
  },
  {
   "cell_type": "markdown",
   "id": "e9208053-23db-4a90-92be-86ba894bc3b8",
   "metadata": {},
   "source": [
    "## Problem 3: Array Operations"
   ]
  },
  {
   "cell_type": "markdown",
   "id": "3ffcbf49-9cbc-4345-8eec-16e13bae9fd4",
   "metadata": {},
   "source": [
    "### For the following arrays:"
   ]
  },
  {
   "cell_type": "code",
   "execution_count": 133,
   "id": "33e252ea-3ac9-47e9-a85d-ba07470db235",
   "metadata": {},
   "outputs": [],
   "source": [
    "x = np.array([[1, 2], [3, 5]])\n",
    "y = np.array([[5, 6], [7, 8]])\n",
    "v = np.array([9, 10])\n",
    "w = np.array([11, 12])"
   ]
  },
  {
   "cell_type": "markdown",
   "id": "7e0f43ce-58c7-4b88-b5c4-0a4aca6b708b",
   "metadata": {},
   "source": [
    "### Task 1: Add the two arrays x and y."
   ]
  },
  {
   "cell_type": "code",
   "execution_count": 134,
   "id": "e287f600-bd2a-496f-be0a-d9c3c82b4142",
   "metadata": {},
   "outputs": [
    {
     "name": "stdout",
     "output_type": "stream",
     "text": [
      "Sum of Arrays x and y:\n",
      " [[ 6  8]\n",
      " [10 13]]\n"
     ]
    }
   ],
   "source": [
    "sum_array = x + y\n",
    "print(\"Sum of Arrays x and y:\\n\", sum_array)"
   ]
  },
  {
   "cell_type": "markdown",
   "id": "c7f58341-d577-4504-8be3-68ac08d89b9d",
   "metadata": {},
   "source": [
    "### Task 2: Subtract the two arrays x and y."
   ]
  },
  {
   "cell_type": "code",
   "execution_count": 135,
   "id": "49a3ced9-8937-4c70-bd98-7872a5168210",
   "metadata": {},
   "outputs": [
    {
     "name": "stdout",
     "output_type": "stream",
     "text": [
      "Difference of Arrays x and y:\n",
      " [[-4 -4]\n",
      " [-4 -3]]\n"
     ]
    }
   ],
   "source": [
    "diff_array = x - y\n",
    "print(\"Difference of Arrays x and y:\\n\", diff_array)"
   ]
  },
  {
   "cell_type": "markdown",
   "id": "9ac8c06d-ec77-4664-9f29-839ea6925fdc",
   "metadata": {},
   "source": [
    "### Task 3: Multiply the array x with an integer of your choice."
   ]
  },
  {
   "cell_type": "code",
   "execution_count": 136,
   "id": "6e6d0d69-d892-4cc9-a42e-f06a954d5340",
   "metadata": {},
   "outputs": [
    {
     "name": "stdout",
     "output_type": "stream",
     "text": [
      "Array x Multiplied by 3:\n",
      " [[ 3  6]\n",
      " [ 9 15]]\n"
     ]
    }
   ],
   "source": [
    "multiplied_array = x * 3  # Example with 3\n",
    "print(\"Array x Multiplied by 3:\\n\", multiplied_array)"
   ]
  },
  {
   "cell_type": "markdown",
   "id": "04de95b0-1f88-4965-ba29-16a4fc5e9f67",
   "metadata": {},
   "source": [
    "### Task 4: Find the square of each element of the array x."
   ]
  },
  {
   "cell_type": "code",
   "execution_count": 137,
   "id": "cabc7376-3510-4ba7-ae92-736b89b24cbd",
   "metadata": {},
   "outputs": [
    {
     "name": "stdout",
     "output_type": "stream",
     "text": [
      "Square of Each Element in Array x:\n",
      " [[ 1  4]\n",
      " [ 9 25]]\n"
     ]
    }
   ],
   "source": [
    "squared_array = np.square(x)\n",
    "print(\"Square of Each Element in Array x:\\n\", squared_array)"
   ]
  },
  {
   "cell_type": "markdown",
   "id": "519436d2-c812-4112-97ce-c5ff04053f5a",
   "metadata": {},
   "source": [
    "### Task 5: Find the dot product."
   ]
  },
  {
   "cell_type": "code",
   "execution_count": 138,
   "id": "9f3e5b22-954c-4576-b270-41742024ad6b",
   "metadata": {},
   "outputs": [
    {
     "name": "stdout",
     "output_type": "stream",
     "text": [
      "Dot product of v and w: 219\n",
      "Dot product of x and v:\n",
      " [29 77]\n",
      "Dot product of x and y:\n",
      " [[19 22]\n",
      " [50 58]]\n"
     ]
    }
   ],
   "source": [
    "dot_vw = np.dot(v, w)\n",
    "dot_xv = np.dot(x, v)\n",
    "dot_xy = np.dot(x, y)\n",
    "print(\"Dot product of v and w:\", dot_vw)\n",
    "print(\"Dot product of x and v:\\n\", dot_xv)\n",
    "print(\"Dot product of x and y:\\n\", dot_xy)"
   ]
  },
  {
   "cell_type": "markdown",
   "id": "befe346b-83b9-431d-b05b-ea76a0a3b6b8",
   "metadata": {},
   "source": [
    "### Task 6 : Concatenate x and y along rows and concatenate v and w along columns:"
   ]
  },
  {
   "cell_type": "code",
   "execution_count": 139,
   "id": "a620d0be-d48b-491d-b5c3-562fcdd1c1f8",
   "metadata": {},
   "outputs": [
    {
     "name": "stdout",
     "output_type": "stream",
     "text": [
      "Concatenated x and y along rows:\n",
      " [[1 2]\n",
      " [3 5]\n",
      " [5 6]\n",
      " [7 8]]\n",
      "Concatenated v and w along columns:\n",
      " [[ 9 11]\n",
      " [10 12]]\n"
     ]
    }
   ],
   "source": [
    "concatenated_xy_row = np.concatenate((x, y), axis=0)\n",
    "concatenated_vw_col = np.concatenate((v[:, None], w[:, None]), axis=1)\n",
    "print(\"Concatenated x and y along rows:\\n\", concatenated_xy_row)\n",
    "print(\"Concatenated v and w along columns:\\n\", concatenated_vw_col)\n"
   ]
  },
  {
   "cell_type": "markdown",
   "id": "2302b877-14bb-462c-883e-ce773662ded2",
   "metadata": {},
   "source": [
    "### Task 7: Concatenate x and v:"
   ]
  },
  {
   "cell_type": "code",
   "execution_count": 140,
   "id": "65a789b3-0eb6-46c0-ae5c-6bf5ad17a5aa",
   "metadata": {},
   "outputs": [],
   "source": [
    " ## np.concatenate((x, v)) \n",
    "# This raises a value error because the dimensions does not match for conatenation"
   ]
  },
  {
   "cell_type": "markdown",
   "id": "a2a523d6-3108-4328-9155-2a608ef1f4c8",
   "metadata": {},
   "source": [
    "## Problem 4: Matrix Operations"
   ]
  },
  {
   "cell_type": "markdown",
   "id": "90ebef56-8fe0-4481-9104-786c036cbb58",
   "metadata": {},
   "source": [
    "### For the following matrices:"
   ]
  },
  {
   "cell_type": "code",
   "execution_count": 141,
   "id": "2ef48ab6-06f3-4150-ba27-8e88502e69e5",
   "metadata": {},
   "outputs": [],
   "source": [
    "A = np.array([[3, 4], [7, 8]])\n",
    "B = np.array([[5, 3], [2, 1]])"
   ]
  },
  {
   "cell_type": "markdown",
   "id": "1e5b2d9d-006e-48ed-b9ce-474b567d0041",
   "metadata": {},
   "source": [
    "### Task 1: Prove that A * A^(-1) = I."
   ]
  },
  {
   "cell_type": "code",
   "execution_count": 142,
   "id": "b1075c2e-fabe-44b6-a582-fa83a01f91ec",
   "metadata": {},
   "outputs": [
    {
     "name": "stdout",
     "output_type": "stream",
     "text": [
      "A * A^(-1) = I:\n",
      " [[1.00000000e+00 0.00000000e+00]\n",
      " [1.77635684e-15 1.00000000e+00]]\n"
     ]
    }
   ],
   "source": [
    "A_inv = np.linalg.inv(A)\n",
    "identity_matrix = np.dot(A, A_inv)\n",
    "print(\"A * A^(-1) = I:\\n\", identity_matrix)"
   ]
  },
  {
   "cell_type": "markdown",
   "id": "115add5c-71e7-494c-bc85-a2680865efdf",
   "metadata": {},
   "source": [
    "### Task 2: Prove that AB ≠ BA."
   ]
  },
  {
   "cell_type": "code",
   "execution_count": 143,
   "id": "14c58d9b-33a3-4a49-8d54-d69fe541e90e",
   "metadata": {},
   "outputs": [
    {
     "name": "stdout",
     "output_type": "stream",
     "text": [
      "AB:\n",
      " [[23 13]\n",
      " [51 29]]\n",
      "BA:\n",
      " [[36 44]\n",
      " [13 16]]\n"
     ]
    }
   ],
   "source": [
    "AB = np.dot(A, B)\n",
    "BA = np.dot(B, A)\n",
    "print(\"AB:\\n\", AB)\n",
    "print(\"BA:\\n\", BA)"
   ]
  },
  {
   "cell_type": "markdown",
   "id": "c91db981-5d66-4848-9c3c-8b14b9562352",
   "metadata": {},
   "source": [
    "### Task 3: Prove that (AB)^T = B^T * A^T."
   ]
  },
  {
   "cell_type": "code",
   "execution_count": 144,
   "id": "733e21c7-481a-483f-8692-318adf2d57fc",
   "metadata": {},
   "outputs": [
    {
     "name": "stdout",
     "output_type": "stream",
     "text": [
      "(AB)^T:\n",
      " [[23 51]\n",
      " [13 29]]\n",
      "B^T * A^T:\n",
      " [[23 51]\n",
      " [13 29]]\n"
     ]
    }
   ],
   "source": [
    "transpose_AB = np.transpose(np.dot(A, B))\n",
    "transpose_BA = np.dot(np.transpose(B), np.transpose(A))\n",
    "print(\"(AB)^T:\\n\", transpose_AB)\n",
    "print(\"B^T * A^T:\\n\", transpose_BA)"
   ]
  },
  {
   "cell_type": "markdown",
   "id": "3fb6e43b-8e13-4f0a-975c-63f0de1d8fea",
   "metadata": {},
   "source": [
    "### Task 4: Solve the system of linear equations using inverse methods"
   ]
  },
  {
   "cell_type": "raw",
   "id": "81ac7108-7229-411d-b49a-7b52c1e42af6",
   "metadata": {},
   "source": [
    "The system of equations:\n",
    "\n",
    "2x - 3y + z = -1\n",
    "x - y + 2z = -3\n",
    "3x + y - z = 9"
   ]
  },
  {
   "cell_type": "code",
   "execution_count": 145,
   "id": "d30eb33f-0b21-431d-a498-56fed1255816",
   "metadata": {},
   "outputs": [
    {
     "name": "stdout",
     "output_type": "stream",
     "text": [
      "Solution using Inverse Method: [ 2.  1. -2.]\n"
     ]
    }
   ],
   "source": [
    "A_eq = np.array([[2, -3, 1], [1, -1, 2], [3, 1, -1]])\n",
    "B_eq = np.array([-1, -3, 9])\n",
    "\n",
    "X = np.linalg.inv(A_eq).dot(B_eq)\n",
    "print(\"Solution using Inverse Method:\", X)"
   ]
  },
  {
   "cell_type": "markdown",
   "id": "50b19c06-7b34-4381-81dd-9677b9572f3d",
   "metadata": {},
   "source": [
    "## Problem 5: How Fast is Numpy?"
   ]
  },
  {
   "cell_type": "markdown",
   "id": "ed8bb470-3df9-4fc2-a0e9-c04fa7f71a47",
   "metadata": {},
   "source": [
    "### Task 1: Element-wise Addition:"
   ]
  },
  {
   "cell_type": "code",
   "execution_count": 146,
   "id": "dd0a1750-5c69-4b35-b804-8e2675b2c8c3",
   "metadata": {},
   "outputs": [
    {
     "name": "stdout",
     "output_type": "stream",
     "text": [
      "Python List Addition Time: 0.04641580581665039\n",
      "NumPy Array Addition Time: 0.0014531612396240234\n"
     ]
    }
   ],
   "source": [
    "import time\n",
    "\n",
    "# Using Python Lists\n",
    "list1 = [i for i in range(1000000)]\n",
    "list2 = [i for i in range(1000000)]\n",
    "start_time = time.time()\n",
    "list_addition = [list1[i] + list2[i] for i in range(1000000)]\n",
    "print(\"Python List Addition Time:\", time.time() - start_time)\n",
    "\n",
    "# Using NumPy Arrays\n",
    "array1 = np.array(list1)\n",
    "array2 = np.array(list2)\n",
    "start_time = time.time()\n",
    "numpy_addition = array1 + array2\n",
    "print(\"NumPy Array Addition Time:\", time.time() - start_time)\n"
   ]
  },
  {
   "cell_type": "markdown",
   "id": "2a16ef67-a4f8-42d2-8631-51d1f8ea1bb7",
   "metadata": {},
   "source": [
    "### Task 2: Element-wise Multiplication:"
   ]
  },
  {
   "cell_type": "code",
   "execution_count": 147,
   "id": "53b24ccd-6357-49dc-a854-b91239d0948d",
   "metadata": {},
   "outputs": [
    {
     "name": "stdout",
     "output_type": "stream",
     "text": [
      "Python List Multiplication Time: 0.050498247146606445\n",
      "NumPy Array Multiplication Time: 0.0028989315032958984\n"
     ]
    }
   ],
   "source": [
    "# Using Python Lists\n",
    "start_time = time.time()\n",
    "list_multiplication = [list1[i] * list2[i] for i in range(1000000)]\n",
    "print(\"Python List Multiplication Time:\", time.time() - start_time)\n",
    "\n",
    "# Using NumPy Arrays\n",
    "start_time = time.time()\n",
    "numpy_multiplication = array1 * array2\n",
    "print(\"NumPy Array Multiplication Time:\", time.time() - start_time)\n"
   ]
  },
  {
   "cell_type": "markdown",
   "id": "554d1afb-0697-436e-8b7d-ce554f3b4a4b",
   "metadata": {},
   "source": [
    "### Task 3: Dot Product:"
   ]
  },
  {
   "cell_type": "code",
   "execution_count": 148,
   "id": "77a03d3f-c94a-4ff7-aa86-edf81c7da869",
   "metadata": {},
   "outputs": [
    {
     "name": "stdout",
     "output_type": "stream",
     "text": [
      "Python List Dot Product Time: 0.047338008880615234\n",
      "NumPy Array Dot Product Time: 0.0004940032958984375\n"
     ]
    }
   ],
   "source": [
    "# Using Python Lists\n",
    "start_time = time.time()\n",
    "dot_product_list = sum(list1[i] * list2[i] for i in range(1000000))\n",
    "print(\"Python List Dot Product Time:\", time.time() - start_time)\n",
    "\n",
    "# Using NumPy Arrays\n",
    "start_time = time.time()\n",
    "dot_product_numpy = np.dot(array1, array2)\n",
    "print(\"NumPy Array Dot Product Time:\", time.time() - start_time)\n"
   ]
  },
  {
   "cell_type": "markdown",
   "id": "ea68c920-da3c-4817-b501-91dd43d2bd00",
   "metadata": {},
   "source": [
    "### Task 4: Matrix Multiplication"
   ]
  },
  {
   "cell_type": "code",
   "execution_count": 149,
   "id": "729430b2-8c97-4f47-89fb-06b20605a9d5",
   "metadata": {},
   "outputs": [
    {
     "name": "stdout",
     "output_type": "stream",
     "text": [
      "Python List Matrix Multiplication Time: 60.307302951812744\n",
      "NumPy Array Matrix Multiplication Time: 0.02683424949645996\n"
     ]
    }
   ],
   "source": [
    "import time\n",
    "import numpy as np\n",
    "\n",
    "# Using Python Lists\n",
    "matrix1 = [[i for i in range(1000)] for j in range(1000)]\n",
    "matrix2 = [[i for i in range(1000)] for j in range(1000)]\n",
    "start_time = time.time()\n",
    "matrix_multiplication_list = [[sum(matrix1[i][k] * matrix2[k][j] for k in range(1000)) for j in range(1000)] for i in range(1000)]\n",
    "print(\"Python List Matrix Multiplication Time:\", time.time() - start_time)\n",
    "\n",
    "# Using NumPy Arrays\n",
    "matrix1_numpy = np.random.random((1000, 1000))\n",
    "matrix2_numpy = np.random.random((1000, 1000))\n",
    "start_time = time.time()\n",
    "matrix_multiplication_numpy = np.dot(matrix1_numpy, matrix2_numpy)\n",
    "print(\"NumPy Array Matrix Multiplication Time:\", time.time() - start_time)"
   ]
  }
 ],
 "metadata": {
  "kernelspec": {
   "display_name": "Python 3 (ipykernel)",
   "language": "python",
   "name": "python3"
  },
  "language_info": {
   "codemirror_mode": {
    "name": "ipython",
    "version": 3
   },
   "file_extension": ".py",
   "mimetype": "text/x-python",
   "name": "python",
   "nbconvert_exporter": "python",
   "pygments_lexer": "ipython3",
   "version": "3.11.1"
  }
 },
 "nbformat": 4,
 "nbformat_minor": 5
}
